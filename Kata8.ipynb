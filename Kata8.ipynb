{
  "cells": [
    {
      "cell_type": "markdown",
      "metadata": {},
      "source": [
        "# Ejercicio 1: Creación de diccionarios de Python"
      ]
    },
    {
      "cell_type": "code",
      "execution_count": 1,
      "metadata": {},
      "outputs": [
        {
          "name": "stdout",
          "output_type": "stream",
          "text": [
            "Jupiter tiene 79 lunas\n",
            "Jupiter tiene una circunferencia polar de 6752\n"
          ]
        }
      ],
      "source": [
        "# Crea un diccionario llamado planet con los datos propuestos\n",
        "\n",
        "planeta = {\n",
        "    'nombre': 'Jupiter',\n",
        "    'numero_lunas': 79\n",
        "}\n",
        "\n",
        "# Muestra el nombre del planeta y el número de lunas que tiene\n",
        "\n",
        "print(f'{planeta[\"nombre\"]} tiene {planeta[\"numero_lunas\"]} lunas')\n",
        "\n",
        "# Agrega la clave circunferencia con los datos proporcionados previamente\n",
        "\n",
        "planeta['circumferencia_km'] = {\n",
        "    'polar': 6752,\n",
        "    'ecuatorial': 6792\n",
        "}\n",
        "\n",
        "# Imprime el nombre del planeta con su circunferencia polar\n",
        "\n",
        "print(f'{planeta[\"nombre\"]} tiene una circunferencia polar de {planeta[\"circumferencia_km\"][\"polar\"]}')\n"
      ]
    },
    {
      "cell_type": "markdown",
      "metadata": {},
      "source": [
        "## Ejercicio 2: Programación dinámica con diccionarios"
      ]
    },
    {
      "cell_type": "code",
      "execution_count": 2,
      "metadata": {},
      "outputs": [
        {
          "name": "stdout",
          "output_type": "stream",
          "text": [
            "17.833333333333332\n"
          ]
        }
      ],
      "source": [
        "# Planetas y su numero de lunas\n",
        "\n",
        "lunas_planeta = {\n",
        "    'mercury': 0,\n",
        "    'venus': 0,\n",
        "    'earth': 1,\n",
        "    'mars': 2,\n",
        "    'jupiter': 79,\n",
        "    'saturn': 82,\n",
        "    'uranus': 27,\n",
        "    'neptune': 14,\n",
        "    'pluto': 5,\n",
        "    'haumea': 2,\n",
        "    'makemake': 1,\n",
        "    'eris': 1\n",
        "}\n",
        "\n",
        "# Añade el código para determinar el número de lunas\n",
        "\n",
        "lunas = lunas_planeta.values()\n",
        "planetas = len(lunas_planeta.keys())\n",
        "\n",
        "total_lunas = 0\n",
        "for luna in lunas:\n",
        "    total_lunas = total_lunas + luna\n",
        "\n",
        "promedio = total_lunas / planetas\n",
        "print(promedio)"
      ]
    }
  ],
  "metadata": {
    "interpreter": {
      "hash": "916dbcbb3f70747c44a77c7bcd40155683ae19c65e1c03b4aa3499c5328201f1"
    },
    "kernelspec": {
      "display_name": "Python 3.8.10 64-bit",
      "name": "python3"
    },
    "language_info": {
      "codemirror_mode": {
        "name": "ipython",
        "version": 3
      },
      "file_extension": ".py",
      "mimetype": "text/x-python",
      "name": "python",
      "nbconvert_exporter": "python",
      "pygments_lexer": "ipython3",
      "version": "3.10.2"
    },
    "nteract": {
      "version": "nteract-front-end@1.0.0"
    },
    "orig_nbformat": 4
  },
  "nbformat": 4,
  "nbformat_minor": 2
}
