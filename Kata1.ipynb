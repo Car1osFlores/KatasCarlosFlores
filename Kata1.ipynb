{
  "cells": [
    {
      "cell_type": "code",
      "execution_count": null,
      "metadata": {},
      "outputs": [],
      "source": [
        "Primer Programa"
      ]
    },
    {
      "cell_type": "code",
      "execution_count": 1,
      "metadata": {},
      "outputs": [
        {
          "name": "stdout",
          "output_type": "stream",
          "text": [
            "Today's date is: \n",
            "2022-02-16\n"
          ]
        }
      ],
      "source": [
        "from datetime import date\n",
        "\n",
        "print(\"Today's date is: \")\n",
        "print(date.today())"
      ]
    },
    {
      "cell_type": "markdown",
      "metadata": {},
      "source": [
        "Construir un convertidor de unidades"
      ]
    },
    {
      "cell_type": "code",
      "execution_count": 2,
      "metadata": {},
      "outputs": [
        {
          "name": "stdout",
          "output_type": "stream",
          "text": [
            "2 parsec, is 6.52312 lightyears\n"
          ]
        }
      ],
      "source": [
        "parsec = 2\n",
        "lightyears = parsec * 3.26156\n",
        "print(str(parsec) + \" parsec, is \" + str(lightyears) + \" lightyears\")"
      ]
    }
  ],
  "metadata": {
    "interpreter": {
      "hash": "66bd437eb01e848f8fd12c3552b09d8b3ae7f756d3f7f368f58a011b410c9a1d"
    },
    "kernel_info": {
      "name": "conda-env-py37_default-py"
    },
    "kernelspec": {
      "display_name": "py37_default",
      "language": "python",
      "name": "python3"
    },
    "language_info": {
      "codemirror_mode": {
        "name": "ipython",
        "version": 3
      },
      "file_extension": ".py",
      "mimetype": "text/x-python",
      "name": "python",
      "nbconvert_exporter": "python",
      "pygments_lexer": "ipython3",
      "version": "3.10.2"
    },
    "nteract": {
      "version": "nteract-front-end@1.0.0"
    },
    "orig_nbformat": 4
  },
  "nbformat": 4,
  "nbformat_minor": 2
}
