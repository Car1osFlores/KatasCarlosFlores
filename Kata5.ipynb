{
  "cells": [
    {
      "cell_type": "markdown",
      "metadata": {},
      "source": [
        "\n",
        "Ejercicio1 - Utilizar operadores aritméticos"
      ]
    },
    {
      "cell_type": "markdown",
      "metadata": {},
      "source": [
        "### Ejercicio 1"
      ]
    },
    {
      "cell_type": "code",
      "execution_count": 3,
      "metadata": {},
      "outputs": [
        {
          "name": "stdout",
          "output_type": "stream",
          "text": [
            "628949330\n",
            "390577533.93\n"
          ]
        }
      ],
      "source": [
        "# Crear variables para almacenar las dos distancias\n",
        "# ¡Asegúrate de quitar las comas!\n",
        "\n",
        "Tierra = 149597870\n",
        "Jupiter = 778547200\n",
        "\n",
        "# Calcular distancia entre planetas\n",
        "\n",
        "distanciaKm = Jupiter - Tierra\n",
        "print (distanciaKm)\n",
        "\n",
        "distanciaMi = 0.621 * distanciaKm\n",
        "print (distanciaMi)"
      ]
    },
    {
      "cell_type": "code",
      "execution_count": 4,
      "metadata": {},
      "outputs": [
        {
          "name": "stdout",
          "output_type": "stream",
          "text": [
            "628949330\n",
            "390577533.93\n"
          ]
        }
      ],
      "source": [
        "# Calcular la distancia entre planetas\n",
        "\n",
        "distanciaKm = Jupiter - Tierra\n",
        "print (distanciaKm)\n",
        "\n",
        "distanciaMi = 0.621 * distanciaKm\n",
        "print (distanciaMi)"
      ]
    },
    {
      "cell_type": "markdown",
      "metadata": {},
      "source": [
        "### Ejercicio 2"
      ]
    },
    {
      "cell_type": "code",
      "execution_count": 5,
      "metadata": {},
      "outputs": [
        {
          "name": "stdout",
          "output_type": "stream",
          "text": [
            "65187980 Km\n",
            "40481735.58 Mi\n"
          ]
        }
      ],
      "source": [
        "# Almacenar las entradas del usuario\n",
        "\n",
        "planeta_1 = input('¿Cuál es la distancia del primer planeta al sol?')\n",
        "planeta_2 = input('¿Cuál es la distancia del segundo planeta al sol?')\n",
        "\n",
        "# Convierte las cadenas de ambos planetas a números enteros\n",
        "\n",
        "planeta_1 = int(planeta_1)\n",
        "planeta_2 = int(planeta_2)\n",
        "\n",
        "# Realizar el cálculo y determinar el valor absoluto\n",
        "\n",
        "distanciaKm = abs(planeta_2 - planeta_1)\n",
        "print(distanciaKm,'Km')\n",
        "\n",
        "# Convertir de KM a Millas\n",
        "\n",
        "distanciaMi = 0.621 * distanciaKm\n",
        "print(distanciaMi,'Mi')"
      ]
    }
  ],
  "metadata": {
    "interpreter": {
      "hash": "502cd6c3b6c9e666d195e1caff9d64ea12bf644e547a4c8fae84812082c54b6f"
    },
    "kernel_info": {
      "name": "conda-env-py37_default-py"
    },
    "kernelspec": {
      "display_name": "py37_default",
      "language": "python",
      "name": "python3"
    },
    "language_info": {
      "codemirror_mode": {
        "name": "ipython",
        "version": 3
      },
      "file_extension": ".py",
      "mimetype": "text/x-python",
      "name": "python",
      "nbconvert_exporter": "python",
      "pygments_lexer": "ipython3",
      "version": "3.10.2"
    },
    "nteract": {
      "version": "nteract-front-end@1.0.0"
    },
    "orig_nbformat": 4
  },
  "nbformat": 4,
  "nbformat_minor": 2
}
