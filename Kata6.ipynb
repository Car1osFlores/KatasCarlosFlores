{
  "cells": [
    {
      "cell_type": "markdown",
      "metadata": {},
      "source": [
        "# Ejercicio1: Crear y usar listas de Python\n"
      ]
    },
    {
      "cell_type": "code",
      "execution_count": 1,
      "metadata": {},
      "outputs": [
        {
          "name": "stdout",
          "output_type": "stream",
          "text": [
            "Hay 8 planetas\n"
          ]
        }
      ],
      "source": [
        "# Lista de planetas\n",
        "\n",
        "planetas = ['Mercurio', 'Venus', 'Tierra', 'Marte', 'Jupiter', 'Saturno', 'Urano', 'Neptuno']\n",
        "print('Hay', len(planetas), 'planetas')"
      ]
    },
    {
      "cell_type": "code",
      "execution_count": 2,
      "metadata": {},
      "outputs": [
        {
          "name": "stdout",
          "output_type": "stream",
          "text": [
            "Hay 9 planetas. El último planeta es Pluton\n"
          ]
        }
      ],
      "source": [
        "# Solicitamos el nombre de un planeta *Pista:  input()*\n",
        "\n",
        "ultimo_planeta = input('El último planeta es _')\n",
        "planetas.append(ultimo_planeta)\n",
        "print('Hay', len(planetas), 'planetas. El último planeta es', planetas[-1])\n",
        "\n",
        "# Agregamos a plutón y mostramos el último elemento"
      ]
    },
    {
      "cell_type": "markdown",
      "metadata": {},
      "source": [
        "## Ejercicio 2: Trabajando con datos de una lista\n",
        "\n",
        "### Usar slices para recuperar partes de una lista"
      ]
    },
    {
      "cell_type": "code",
      "execution_count": 3,
      "metadata": {},
      "outputs": [
        {
          "name": "stdout",
          "output_type": "stream",
          "text": [
            "Los planetas mas cercanos que Urano\n",
            "['Mercurio', 'Venus', 'Tierra', 'Marte', 'Jupiter', 'Saturno']\n",
            "Los planetas mas lejanos que Urano\n",
            "['Neptuno', 'Pluton']\n"
          ]
        }
      ],
      "source": [
        "# Lista de planetas\n",
        "\n",
        "planetas = ['Mercurio', 'Venus', 'Tierra', 'Marte', 'Jupiter', 'Saturno', 'Urano', 'Neptuno', 'Pluton']\n",
        "\n",
        "# Solicitamos el nombre de un planeta *Pista:  input()*\n",
        "\n",
        "nuevo_planeta = input('Por favor introduzca un Planeta comenzando con Mayusculas')\n",
        "\n",
        "# Busca el planeta en la lista\n",
        "\n",
        "indice_planetas = planetas.index(nuevo_planeta)\n",
        "\n",
        "# Muestra los planetas más cercanos al sol\n",
        "\n",
        "print('Los planetas mas cercanos que ' + nuevo_planeta)\n",
        "print(planetas[0:indice_planetas])\n",
        "\n",
        "# Muestra los planetas más lejanos al sol\n",
        "\n",
        "print('Los planetas mas lejanos que ' + nuevo_planeta)\n",
        "print(planetas[indice_planetas + 1:])"
      ]
    }
  ],
  "metadata": {
    "interpreter": {
      "hash": "b8bdd4e700647ba2b08c59e5df8b7da1dcf50a218bcd4c1bcd9b3dc92e8788e5"
    },
    "kernelspec": {
      "display_name": "Python 3.9.1 64-bit",
      "name": "python3"
    },
    "language_info": {
      "codemirror_mode": {
        "name": "ipython",
        "version": 3
      },
      "file_extension": ".py",
      "mimetype": "text/x-python",
      "name": "python",
      "nbconvert_exporter": "python",
      "pygments_lexer": "ipython3",
      "version": "3.10.2"
    },
    "nteract": {
      "version": "nteract-front-end@1.0.0"
    }
  },
  "nbformat": 4,
  "nbformat_minor": 4
}
