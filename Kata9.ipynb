{
  "cells": [
    {
      "cell_type": "markdown",
      "metadata": {},
      "source": [
        "# Ejercicio: Uso de funciones en Python"
      ]
    },
    {
      "cell_type": "code",
      "execution_count": 1,
      "metadata": {},
      "outputs": [
        {
          "name": "stdout",
          "output_type": "stream",
          "text": [
            "Reporte:\n",
            "    Promedio: 51.0%\n",
            "    Tanque 1: 78%\n",
            "    Tanque 2: 30%\n",
            "    Tanque 3: 45% \n",
            "    \n"
          ]
        },
        {
          "data": {
            "text/plain": [
              "36.333333333333336"
            ]
          },
          "execution_count": 1,
          "metadata": {},
          "output_type": "execute_result"
        }
      ],
      "source": [
        "# Función para leer 3 tanques de combustible y muestre el promedio\n",
        "\n",
        "def funcion (tanque1, tanque2, tanque3):\n",
        "    promedio = (tanque1 + tanque2 + tanque3) / 3\n",
        "    return f\"\"\"Reporte:\n",
        "    Promedio: {promedio}%\n",
        "    Tanque 1: {tanque1}%\n",
        "    Tanque 2: {tanque2}%\n",
        "    Tanque 3: {tanque3}% \n",
        "    \"\"\"\n",
        "\n",
        "# Llamamos a la función que genera el reporte print(funcion(tanque1, tanque2, tanque3))\n",
        "\n",
        "print(funcion(78, 30, 45))\n",
        "\n",
        "# Función promedio \n",
        "\n",
        "def promedio (valores):\n",
        "    total = sum (valores)\n",
        "    numero_valores = len(valores)\n",
        "    return total / numero_valores\n",
        "\n",
        "promedio([20, 15, 74]) "
      ]
    },
    {
      "cell_type": "code",
      "execution_count": 2,
      "metadata": {},
      "outputs": [
        {
          "name": "stdout",
          "output_type": "stream",
          "text": [
            "Reporte:\n",
            "    Promedio: 62.666666666666664%\n",
            "    Tanque 1: 50%\n",
            "    Tanque 2: 43%\n",
            "    Tanque 3: 95% \n",
            "    \n"
          ]
        }
      ],
      "source": [
        "# Actualiza la función\n",
        "\n",
        "def funcion (tanque1, tanque2, tanque3):\n",
        "    promedio = (tanque1 + tanque2 + tanque3) / 3\n",
        "    return f\"\"\"Reporte:\n",
        "    Promedio: {promedio}%\n",
        "    Tanque 1: {tanque1}%\n",
        "    Tanque 2: {tanque2}%\n",
        "    Tanque 3: {tanque3}% \n",
        "    \"\"\"\n",
        "\n",
        "print(funcion(50, 43, 95))"
      ]
    },
    {
      "cell_type": "markdown",
      "metadata": {},
      "source": [
        "## Ejercicio 2: Trabajo con argumentos de palabra clave"
      ]
    },
    {
      "cell_type": "code",
      "execution_count": 3,
      "metadata": {},
      "outputs": [
        {
          "name": "stdout",
          "output_type": "stream",
          "text": [
            "\n",
            "    Mision a Luna\n",
            "    Tiempo total: 73 minutos\n",
            "    Contenido del tanque: 12900 galones\n",
            "    \n",
            "\n",
            "    Mission to Luna\n",
            "    Total travel time: 700054 minutes\n",
            "    Total fuel left: 0\n",
            "    \n",
            "\n",
            "    Mission to Luna\n",
            "    Total travel time: 74 minutes\n",
            "    Total fuel left: 500000\n",
            "    main tank --> 300000 gallons left\n",
            "external tank --> 200000 gallons left\n",
            "\n"
          ]
        }
      ],
      "source": [
        "def funcion2(lanzamiento, tiempo_vuelo, destino, tanque1, tanque2):\n",
        "    return f\"\"\"\n",
        "    Mision a {destino}\n",
        "    Tiempo total: {lanzamiento + tiempo_vuelo} minutos\n",
        "    Contenido del tanque: {tanque1 + tanque2} galones\n",
        "    \"\"\"\n",
        "print(funcion2(50, 23, \"Luna\", 4000, 8900))\n",
        "\n",
        "# Escribe tu nueva función de reporte considerando lo anterior\n",
        "\n",
        "def funcion3(destinatino, *minutos, **reservas):\n",
        "    return f\"\"\"\n",
        "    Mission to {destinatino}\n",
        "    Total travel time: {sum(minutos)} minutes\n",
        "    Total fuel left: {sum(reservas.values())}\n",
        "    \"\"\"\n",
        "print(funcion3(\"Luna\", 8, 11, 35, 500000, 200000))\n",
        "\n",
        "def funcion4(destination, *minutes, **fuel_reservoirs):\n",
        "    main_report = f\"\"\"\n",
        "    Mission to {destination}\n",
        "    Total travel time: {sum(minutes)} minutes\n",
        "    Total fuel left: {sum(fuel_reservoirs.values())}\n",
        "    \"\"\"\n",
        "    for tank_name, gallons in fuel_reservoirs.items():\n",
        "        main_report += f\"{tank_name} tank --> {gallons} gallons left\\n\"\n",
        "    return main_report\n",
        "\n",
        "print(funcion4(\"Luna\", 8, 11, 55, main=300000, external=200000))"
      ]
    }
  ],
  "metadata": {
    "interpreter": {
      "hash": "205095b8b86ea82a021a8fc2ffba2b3bc9f8d0be25999901963b225939f75778"
    },
    "kernelspec": {
      "display_name": "Python 3.8.10 64-bit ('tmp': conda)",
      "name": "python3"
    },
    "language_info": {
      "codemirror_mode": {
        "name": "ipython",
        "version": 3
      },
      "file_extension": ".py",
      "mimetype": "text/x-python",
      "name": "python",
      "nbconvert_exporter": "python",
      "pygments_lexer": "ipython3",
      "version": "3.10.2"
    },
    "nteract": {
      "version": "nteract-front-end@1.0.0"
    },
    "orig_nbformat": 4
  },
  "nbformat": 4,
  "nbformat_minor": 2
}
